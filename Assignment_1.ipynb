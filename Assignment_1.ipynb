{
 "cells": [
  {
   "cell_type": "markdown",
   "id": "e798b844-352c-462f-9c03-5d50a729c12a",
   "metadata": {},
   "source": [
    "# Assignment_1 (Python Baiscs)"
   ]
  },
  {
   "cell_type": "markdown",
   "id": "2f26f92c-c6e9-4bd7-872e-6cb9fd3d20c8",
   "metadata": {},
   "source": [
    "## Question-1 : Explain the key features of Python that make it a popular choice for programming."
   ]
  },
  {
   "cell_type": "markdown",
   "id": "9a112c9c-a0ad-4ffb-8dd8-a0e0be1cfe37",
   "metadata": {},
   "source": [
    "### Solution : "
   ]
  },
  {
   "cell_type": "markdown",
   "id": "5b7b02e5-34fe-471f-b055-1db6311698fb",
   "metadata": {},
   "source": [
    "#### Python is a popular choice for programming because for several reasons. Some of them are mentioned below:"
   ]
  },
  {
   "cell_type": "markdown",
   "id": "f3746ef2-e5f0-4fac-b287-0848ae0334b0",
   "metadata": {},
   "source": [
    "#### Readability and Simplicity : Python's syntax is designed to be clean and easy to read and learn, which makes it friendly to beginners and helps developers to write clear, effective and easy maintainable code."
   ]
  },
  {
   "cell_type": "markdown",
   "id": "50c1b03b-1b97-40a1-b981-ee8612536959",
   "metadata": {},
   "source": [
    "#### Versatility : Python supports multiple programming paradigms, including procedural, object-oriented, and functional programming. This makes it adaptable to various types of real world projects."
   ]
  },
  {
   "cell_type": "markdown",
   "id": "ba6fb2cb-95ca-4164-ada9-f42268f6564c",
   "metadata": {},
   "source": [
    "#### Extensive Standard Library : Python comes with a rich standard library that provides modules and functions for many common tasks, from file I/O to networking. As per recent google search, there are about 137000 libraries in python and it is still increasing."
   ]
  },
  {
   "cell_type": "markdown",
   "id": "049ed631-df19-4a5c-8d32-18ffd99ee6e9",
   "metadata": {},
   "source": [
    "#### Strong Community Support : There is a  large and active community which is still increasing day by day. This means we have lots of  resources, tutorials, and third-party libraries which facilitates problem-solving and learning of python."
   ]
  },
  {
   "cell_type": "markdown",
   "id": "678a7e3d-f3ab-4488-b01c-48c245042f70",
   "metadata": {},
   "source": [
    "#### Interpreted Language : Python is an interpreted language, which means we can execute code line by line making it easier for understanding and debugging."
   ]
  },
  {
   "cell_type": "markdown",
   "id": "1042ad98-c0d8-4ccd-80bb-decfdb640b58",
   "metadata": {},
   "source": [
    "#### Dynamic Typing : Python is dynamically typed, meaning we don’t need to declare the type of a variable explicitly, which can speed up code development."
   ]
  },
  {
   "cell_type": "markdown",
   "id": "e171d40b-0291-476c-8272-f9b99ba078dc",
   "metadata": {},
   "source": [
    "#### Integration Capabilities : It integrates well with other languages and technologies, and can be used to write script and automate tasks across different systems."
   ]
  },
  {
   "cell_type": "markdown",
   "id": "a5bc0313-93b0-4dac-910e-57d0a53491d1",
   "metadata": {},
   "source": [
    "#### Supports multiple OS: Python runs on various operating systems like Windows, macOS, and Linux, allowing for cross-platform development."
   ]
  },
  {
   "cell_type": "markdown",
   "id": "09f51874-d02d-4c96-b43a-2447df8c2ad8",
   "metadata": {},
   "source": [
    "________________________________"
   ]
  },
  {
   "cell_type": "markdown",
   "id": "9d7726c7-d5ed-4535-b8b0-68f41b83cf15",
   "metadata": {},
   "source": [
    "## Question-2 : Describe the role of predefined keywords in Python and provide examples of how they are used in a program. "
   ]
  },
  {
   "cell_type": "markdown",
   "id": "a8a86c65-9bdc-4a9f-aacb-8db1f397b109",
   "metadata": {},
   "source": [
    "### Solution :"
   ]
  },
  {
   "cell_type": "markdown",
   "id": "a1a15e78-3dbc-420d-8f20-a7fcd75e2c59",
   "metadata": {},
   "source": [
    "#### Predefined keywords can be defined as reserved words that have special meanings and purposes in the language. They are part of the syntax and cannot be used as identifiers (such as variable names, function names, or class names). Keywords help define the structure and control flow of a program."
   ]
  },
  {
   "cell_type": "markdown",
   "id": "9ed66317-3b95-4cd6-b82f-806b603f18db",
   "metadata": {},
   "source": [
    "#### Here's a brief overview of some common Python keywords and examples of how they are used:"
   ]
  },
  {
   "cell_type": "markdown",
   "id": "1c98c904-511d-458d-b886-7d44417dbc3b",
   "metadata": {},
   "source": [
    "#### 1. def : Used to define a function."
   ]
  },
  {
   "cell_type": "code",
   "execution_count": 4,
   "id": "e31cb729-9991-4b8d-8b8a-9883dc27c455",
   "metadata": {},
   "outputs": [
    {
     "data": {
      "text/plain": [
       "'Hello, Ajay Sir!'"
      ]
     },
     "execution_count": 4,
     "metadata": {},
     "output_type": "execute_result"
    }
   ],
   "source": [
    "def greeting(name):\n",
    "    return f\"Hello, {name}!\"\n",
    "greeting(\"Ajay Sir\")"
   ]
  },
  {
   "cell_type": "markdown",
   "id": "dbfe3c6e-f8da-490d-81e4-5819177f751f",
   "metadata": {},
   "source": [
    "#### 2. if, elif, else : Used for conditional statements to execute code based on certain conditions."
   ]
  },
  {
   "cell_type": "code",
   "execution_count": 5,
   "id": "6e698397-ccef-463d-837d-5127a89d0178",
   "metadata": {},
   "outputs": [
    {
     "name": "stdout",
     "output_type": "stream",
     "text": [
      "x is greater than 5\n"
     ]
    }
   ],
   "source": [
    "x = 10\n",
    "if x > 5:\n",
    "    print(\"x is greater than 5\")\n",
    "elif x == 5:\n",
    "    print(\"x is 5\")\n",
    "else:\n",
    "    print(\"x is less than 5\")"
   ]
  },
  {
   "cell_type": "markdown",
   "id": "8e428021-7bb9-4874-8774-16df1ef0bb13",
   "metadata": {},
   "source": [
    "#### 3. for : Used to create loops which iterate over a sequence"
   ]
  },
  {
   "cell_type": "code",
   "execution_count": 6,
   "id": "d7e5250e-10b7-4c07-96ec-1826ada03d6d",
   "metadata": {},
   "outputs": [
    {
     "name": "stdout",
     "output_type": "stream",
     "text": [
      "0\n",
      "1\n",
      "2\n",
      "3\n",
      "4\n"
     ]
    }
   ],
   "source": [
    "for i in range(5):\n",
    "    print(i)"
   ]
  },
  {
   "cell_type": "markdown",
   "id": "73161860-5751-4785-bf0b-0616ee6b539d",
   "metadata": {},
   "source": [
    "#### 4. while : Used to create loops which repeat as long as given condition is true"
   ]
  },
  {
   "cell_type": "code",
   "execution_count": 7,
   "id": "97264f96-d1e3-4078-9218-62df7e7249fd",
   "metadata": {},
   "outputs": [
    {
     "name": "stdout",
     "output_type": "stream",
     "text": [
      "1\n",
      "2\n",
      "3\n",
      "4\n"
     ]
    }
   ],
   "source": [
    "count = 1\n",
    "while count < 5:\n",
    "    print(count)\n",
    "    count += 1"
   ]
  },
  {
   "cell_type": "markdown",
   "id": "511fe8dc-7f10-47ce-8953-04d0745454c1",
   "metadata": {},
   "source": [
    "#### 5. import : Used to include external modules or libraries."
   ]
  },
  {
   "cell_type": "code",
   "execution_count": 8,
   "id": "73e27019-3f7f-4fd1-9bcc-fc715bb4e591",
   "metadata": {},
   "outputs": [
    {
     "name": "stdout",
     "output_type": "stream",
     "text": [
      "5.0\n"
     ]
    }
   ],
   "source": [
    "import math\n",
    "print(math.sqrt(25))"
   ]
  },
  {
   "cell_type": "markdown",
   "id": "4bf34816-19fa-46ad-9c89-6617c4c4f7ce",
   "metadata": {},
   "source": [
    "#### 5. class: Used to define a new class."
   ]
  },
  {
   "cell_type": "code",
   "execution_count": 12,
   "id": "6071d6ed-7c08-4163-8f48-73ad0f3587f6",
   "metadata": {},
   "outputs": [
    {
     "name": "stdout",
     "output_type": "stream",
     "text": [
      "Google\n"
     ]
    }
   ],
   "source": [
    "class Employee: # Here, we define a class named \"Employee\"\n",
    "    company = \"Google\"\n",
    "    department = \"IT\"\n",
    "    \n",
    "e1 = Employee() # creating a object \"e1\" of class \"Employee\"\n",
    "print(e1.company) # As, we already defined the company is \"Google\". So, by default the object e1 will belongs to same company i.e., Google"
   ]
  },
  {
   "cell_type": "markdown",
   "id": "4c411f1e-a48e-49a9-aa49-582e6b5e2e06",
   "metadata": {},
   "source": [
    "#### 6. try, except, finally : Used for exception handling to manage errors that occur during execution."
   ]
  },
  {
   "cell_type": "code",
   "execution_count": 13,
   "id": "a100d2d5-b3b7-4816-9473-99c72f0a0a69",
   "metadata": {},
   "outputs": [
    {
     "name": "stdout",
     "output_type": "stream",
     "text": [
      "You can't divide by zero!\n",
      "This will always execute.\n"
     ]
    }
   ],
   "source": [
    "try:\n",
    "    result = 10 / 0\n",
    "except ZeroDivisionError:\n",
    "    print(\"You can't divide by zero!\")\n",
    "finally:\n",
    "    print(\"This will always execute.\")"
   ]
  },
  {
   "cell_type": "markdown",
   "id": "b6b5d59a-0f64-46ab-978e-4aa3e3d0890b",
   "metadata": {},
   "source": [
    "#### 7. return : Used to return a value from a function."
   ]
  },
  {
   "cell_type": "code",
   "execution_count": 15,
   "id": "0f6f147c-bf9e-458b-b003-ce328bd3c5e0",
   "metadata": {},
   "outputs": [
    {
     "name": "stdout",
     "output_type": "stream",
     "text": [
      "19\n"
     ]
    }
   ],
   "source": [
    "def add(a, b): # defining a function \"add\" to add two given numbers\n",
    "    return a + b # returning the result\n",
    "\n",
    "sum = add(4, 15) # passing values 4 and 15 to the function \"add\" \n",
    "print(sum) # print the result"
   ]
  },
  {
   "cell_type": "markdown",
   "id": "f1364213-dea6-4c1b-bf5d-133df43da50d",
   "metadata": {},
   "source": [
    "#### As a conclusion, we can say that -\n",
    "Each keyword serves a specific purpose and helps in writing clear, efficient, and readable code by defining structure and behavior in Python programs."
   ]
  },
  {
   "cell_type": "markdown",
   "id": "35961fa4-08e5-443c-9a0b-76571c468656",
   "metadata": {},
   "source": [
    "_____________________"
   ]
  },
  {
   "cell_type": "markdown",
   "id": "d685bc3b-9fac-4cdd-bdd5-f64495a730bf",
   "metadata": {},
   "source": [
    "## Question-3 : Compare and contrast mutable and immutable objects in Python with examples"
   ]
  },
  {
   "cell_type": "markdown",
   "id": "4e0cc494-d256-4c4e-8f83-3cf362732700",
   "metadata": {},
   "source": [
    "### Solution :"
   ]
  },
  {
   "cell_type": "markdown",
   "id": "9cee6fff-55c2-473d-a7c0-ec8f5150406d",
   "metadata": {},
   "source": [
    "#### In Python, objects can be classified as mutable or immutable based on whether their state can be modified after they are created."
   ]
  },
  {
   "cell_type": "markdown",
   "id": "283aa6d6-a07f-4942-b857-2013909c863b",
   "metadata": {},
   "source": [
    "#### -> Mutable Objects"
   ]
  },
  {
   "cell_type": "markdown",
   "id": "cb4805b2-3de2-4683-9a69-203a4b1146ae",
   "metadata": {},
   "source": [
    "#### Definition : Mutable objects can be defined as onjects which can be changed after they are created. Modifying the state of a mutable object does not create a new object but instead modify the existing one."
   ]
  },
  {
   "cell_type": "markdown",
   "id": "a80b7ddc-bd75-4e04-a677-543b9e30dfd8",
   "metadata": {},
   "source": [
    "#### Examples : Lists, dictionaries, and sets are examples of mutable objects in Python."
   ]
  },
  {
   "cell_type": "markdown",
   "id": "9d94e973-3182-4165-bebb-68374765fed5",
   "metadata": {},
   "source": [
    "#### Example of a mutable object (list) :"
   ]
  },
  {
   "cell_type": "code",
   "execution_count": 17,
   "id": "2880b7ae-495a-4463-a8b4-169294a2d56f",
   "metadata": {},
   "outputs": [
    {
     "name": "stdout",
     "output_type": "stream",
     "text": [
      "Original list :  [1, 2, 3]\n"
     ]
    }
   ],
   "source": [
    "# Creating a list\n",
    "my_list = [1, 2, 3]\n",
    "print(\"Original list : \", my_list)"
   ]
  },
  {
   "cell_type": "code",
   "execution_count": 18,
   "id": "081bd71d-064c-4869-a017-dfe9ec396221",
   "metadata": {},
   "outputs": [
    {
     "name": "stdout",
     "output_type": "stream",
     "text": [
      "Modified list :  [1, 2, 3, 4]\n"
     ]
    }
   ],
   "source": [
    "# Modifying the list\n",
    "my_list.append(4)\n",
    "print(\"Modified list : \", my_list)"
   ]
  },
  {
   "cell_type": "markdown",
   "id": "de982553-5173-4e1d-88c4-08df86ee6566",
   "metadata": {},
   "source": [
    "#### NOTE : In the above discussed example, the list my_list is modified in place by appending an element. The original list object is changed, and no new list is created."
   ]
  },
  {
   "cell_type": "markdown",
   "id": "92ce3f9d-7a07-4f60-97d4-4b5e537879e9",
   "metadata": {},
   "source": [
    "#### -> Immutable Objects"
   ]
  },
  {
   "cell_type": "markdown",
   "id": "7f7a2732-2492-4874-a81d-17dd4ca5b697",
   "metadata": {},
   "source": [
    "#### Definition : Immutable objects can be defined as objects which cannot be changed after they are created. Any operation that attempts to modify an immutable object will instead create a new object."
   ]
  },
  {
   "cell_type": "markdown",
   "id": "9d3c784c-52e9-4020-965b-40d9f12190d5",
   "metadata": {},
   "source": [
    "#### Examples : Tuples, strings, and integers are examples of immutable objects in Python."
   ]
  },
  {
   "cell_type": "markdown",
   "id": "292af6a8-694b-46c9-ab2b-0623e8c19297",
   "metadata": {},
   "source": [
    "#### Example of an immutable object (string) :"
   ]
  },
  {
   "cell_type": "code",
   "execution_count": 22,
   "id": "3f6a26ce-2f07-4cd5-bd95-6b83bff6b280",
   "metadata": {},
   "outputs": [
    {
     "name": "stdout",
     "output_type": "stream",
     "text": [
      "Original string: Ronaldo\n"
     ]
    }
   ],
   "source": [
    "# Creating a string\n",
    "my_string = \"Ronaldo\"\n",
    "print(\"Original string:\", my_string)"
   ]
  },
  {
   "cell_type": "code",
   "execution_count": 23,
   "id": "5e263014-201f-4562-8b8b-85176bea2297",
   "metadata": {},
   "outputs": [
    {
     "name": "stdout",
     "output_type": "stream",
     "text": [
      "Modified string: Jonaldo\n",
      "Original string remains unchanged: Ronaldo\n"
     ]
    }
   ],
   "source": [
    "# Modifying the string\n",
    "new_string = my_string.replace(\"R\", \"J\")\n",
    "print(\"Modified string:\", new_string)\n",
    "print(\"Original string remains unchanged:\", my_string)"
   ]
  },
  {
   "cell_type": "markdown",
   "id": "df80e47f-2c27-4fbe-a95f-ccc82fef8154",
   "metadata": {},
   "source": [
    "#### NOTE : In above discussed example, my_string remains unchanged after the replace method is called. Instead, a new string new_string is created with the modification."
   ]
  },
  {
   "cell_type": "markdown",
   "id": "000e63e5-7d64-44a1-8cc2-1422019a858e",
   "metadata": {},
   "source": [
    "#### Key Differences : ----"
   ]
  },
  {
   "cell_type": "markdown",
   "id": "b0f8326a-9738-40cc-afd8-e1a62d0234c8",
   "metadata": {},
   "source": [
    "#### Mutability :"
   ]
  },
  {
   "cell_type": "markdown",
   "id": "f79ca2f2-5372-4107-947c-643682b80eac",
   "metadata": {},
   "source": [
    "#### - Mutable objects can be changed in place.\n",
    "#### - Immutable objects cannot be changed after creation; modifications result in new objects."
   ]
  },
  {
   "cell_type": "markdown",
   "id": "49f3b390-4bf6-4b0c-89ec-3f639f4ded1b",
   "metadata": {},
   "source": [
    "#### Performance :"
   ]
  },
  {
   "cell_type": "markdown",
   "id": "99cfc698-375f-446e-8f70-f0c54de79cf3",
   "metadata": {},
   "source": [
    "#### - Mutables may offer better performance for large datasets or frequent modifications due to in-place changes.\n",
    "#### - Immutables may be less efficient for modifications but can be advantageous in multi-threaded environments due to their unchangeable nature."
   ]
  },
  {
   "cell_type": "markdown",
   "id": "2cd93900-913b-4c97-a598-a968f95f66d6",
   "metadata": {},
   "source": [
    "#### Use Cases :"
   ]
  },
  {
   "cell_type": "markdown",
   "id": "8a7c4313-2216-4183-959c-6fe3614fc18c",
   "metadata": {},
   "source": [
    "#### - Mutables are typically used when we need to modify an object frequently (e.g., lists for dynamic collections).\n",
    "#### - Immutables are used for fixed values that should not change (e.g., strings for constant text)."
   ]
  },
  {
   "cell_type": "markdown",
   "id": "aa5817e5-7253-474c-addc-4eb968a45bde",
   "metadata": {},
   "source": [
    "________________________________"
   ]
  },
  {
   "cell_type": "markdown",
   "id": "2ddff97e-8664-44f2-858e-388bc7995ad5",
   "metadata": {},
   "source": [
    "## Question-4 : Discuss the different types of operators in Python and provide examples of how they are used."
   ]
  },
  {
   "cell_type": "markdown",
   "id": "c31fe000-fff8-4d10-9aed-90b50251fbec",
   "metadata": {},
   "source": [
    "### Solution :"
   ]
  },
  {
   "cell_type": "markdown",
   "id": "ec72ba1d-fc23-4956-92c0-21ef7df98ddc",
   "metadata": {},
   "source": [
    "#### In Python, operators can be defined as symbols used to perform operations on variables and values. Python supports several types of operators, each serving a different purpose. \n",
    "#### Here’s an overview of the main types of operators:"
   ]
  },
  {
   "cell_type": "markdown",
   "id": "f3125b87-25ae-41ad-ab45-0b27ced33f14",
   "metadata": {},
   "source": [
    "#### 1. Arithmetic Operators : Used to perform mathematical operations."
   ]
  },
  {
   "cell_type": "markdown",
   "id": "ce441ec5-4c00-4eab-8b4b-4425a7fe779a",
   "metadata": {},
   "source": [
    "#### Addition (+) :"
   ]
  },
  {
   "cell_type": "code",
   "execution_count": 29,
   "id": "6cf4855b-79ff-44cd-a6a7-e740338165f3",
   "metadata": {},
   "outputs": [
    {
     "name": "stdout",
     "output_type": "stream",
     "text": [
      "Sum of 20 and 40 is 60\n"
     ]
    }
   ],
   "source": [
    "num1 = 20 # defining variable num1\n",
    "num2 = 40 # defining variable num2\n",
    "result = num1 + num2  # storing the output of addition to a variable named result\n",
    "print(f\"Sum of {num1} and {num2} is {result}\") # printing the result"
   ]
  },
  {
   "cell_type": "markdown",
   "id": "1e4fadbb-41c4-47b9-a4f1-f34237ef94e7",
   "metadata": {},
   "source": [
    "#### Subtraction (-) :"
   ]
  },
  {
   "cell_type": "code",
   "execution_count": 36,
   "id": "386120c2-6491-4b95-bd0e-b41c58259d11",
   "metadata": {},
   "outputs": [
    {
     "name": "stdout",
     "output_type": "stream",
     "text": [
      "20\n"
     ]
    }
   ],
   "source": [
    "num1 = 25\n",
    "num2 = 5\n",
    "subs_result = num1 - num2  # Substracting num2 from num1 and storing result in subs_result variable\n",
    "print(subs_result) # printing the value stored in subs_result which is 25 - 5 = 20"
   ]
  },
  {
   "cell_type": "markdown",
   "id": "2935cd27-67c6-4556-9a49-2150c8fdcd5e",
   "metadata": {},
   "source": [
    "#### Multiplication (*) :"
   ]
  },
  {
   "cell_type": "code",
   "execution_count": 38,
   "id": "b83f2fa2-172a-4d53-88a2-3adfe116eb02",
   "metadata": {},
   "outputs": [
    {
     "name": "stdout",
     "output_type": "stream",
     "text": [
      "125\n"
     ]
    }
   ],
   "source": [
    "mult_result = num1 * num2  # mult_result store the result of numtplication of num1 and num2 i.e., 25 * 5 = 125\n",
    "print (mult_result) # printing the value stored in mult_result variable"
   ]
  },
  {
   "cell_type": "markdown",
   "id": "a515e965-5e92-4d84-94db-68b5c1fe92f6",
   "metadata": {},
   "source": [
    "#### Division (/) :"
   ]
  },
  {
   "cell_type": "code",
   "execution_count": 40,
   "id": "4afab67c-a621-4fb2-a600-b47eeca23003",
   "metadata": {},
   "outputs": [
    {
     "name": "stdout",
     "output_type": "stream",
     "text": [
      "5.0\n"
     ]
    }
   ],
   "source": [
    "result = num1 / num2  # result is 25/5 = 5.0\n",
    "print(result)  # printing the result"
   ]
  },
  {
   "cell_type": "markdown",
   "id": "40bde351-47b1-434a-aa97-63a323018380",
   "metadata": {},
   "source": [
    "#### Floor Division (//) :"
   ]
  },
  {
   "cell_type": "code",
   "execution_count": 41,
   "id": "91cbbccd-6fca-48ee-a6c2-a2cd6e47f7bd",
   "metadata": {},
   "outputs": [
    {
     "name": "stdout",
     "output_type": "stream",
     "text": [
      "5\n"
     ]
    }
   ],
   "source": [
    "result = num1 // num2  # result stores integer value which is nearest one after doing the division.\n",
    "print(result) # printing the result variable "
   ]
  },
  {
   "cell_type": "markdown",
   "id": "a83727c9-14b4-42b2-ba16-cd1e662feeec",
   "metadata": {},
   "source": [
    "#### Modulus (%) :"
   ]
  },
  {
   "cell_type": "code",
   "execution_count": 43,
   "id": "0f5ee0a8-f8ac-4ddf-b6a5-59bb490f832e",
   "metadata": {},
   "outputs": [
    {
     "name": "stdout",
     "output_type": "stream",
     "text": [
      "0\n"
     ]
    }
   ],
   "source": [
    "result = num1 % num2  # result stores the remainder value after dividing num1 by num2\n",
    "print(result) # printing the result"
   ]
  },
  {
   "cell_type": "markdown",
   "id": "29fc5fdd-5d4e-4068-a83e-4e4e8808e884",
   "metadata": {},
   "source": [
    "#### Exponentiation (**) :"
   ]
  },
  {
   "cell_type": "code",
   "execution_count": 47,
   "id": "288d39dd-b2ec-49fc-a1f9-aa4e777641a4",
   "metadata": {},
   "outputs": [
    {
     "name": "stdout",
     "output_type": "stream",
     "text": [
      "25 & 5 -> 9765625\n"
     ]
    }
   ],
   "source": [
    "result = num1 ** num2  # result stores 9765625 (25 raised to the power of 5)\n",
    "print(f\"{num1} & {num2} -> {result}\") # printing the result variable "
   ]
  },
  {
   "cell_type": "markdown",
   "id": "ee03f49d-dc59-4f10-8137-d66eb2bc5fd0",
   "metadata": {},
   "source": [
    "#### 2. Comparison Operators : Used to compare two values and return a boolean result (True or False)."
   ]
  },
  {
   "cell_type": "markdown",
   "id": "3ad9f8bb-cea5-4700-8223-1e758a873d55",
   "metadata": {},
   "source": [
    "#### Equal to (==) :"
   ]
  },
  {
   "cell_type": "code",
   "execution_count": 49,
   "id": "fb4290b5-3aab-4e06-b5a2-72b9823240e8",
   "metadata": {},
   "outputs": [
    {
     "name": "stdout",
     "output_type": "stream",
     "text": [
      "False\n"
     ]
    }
   ],
   "source": [
    "num1 = 100\n",
    "num2 = 50\n",
    "result = (num1 == num2)  # result is False as \"a\" is not equal to \"b\" or, 100 not equal to 50\n",
    "print(result)"
   ]
  },
  {
   "cell_type": "markdown",
   "id": "2809a284-cc18-416c-b4d7-b47e27d4a1c8",
   "metadata": {},
   "source": [
    "#### Not equal to (!=) :"
   ]
  },
  {
   "cell_type": "code",
   "execution_count": 51,
   "id": "8eddb63b-cd9f-4294-b0b2-da2babfcf7bd",
   "metadata": {},
   "outputs": [
    {
     "name": "stdout",
     "output_type": "stream",
     "text": [
      "True\n"
     ]
    }
   ],
   "source": [
    "result = (num1 != num2)  # result is True as num1 is not equal to num2\n",
    "print(result)"
   ]
  },
  {
   "cell_type": "markdown",
   "id": "ecd1393e-d5f1-43a8-a2a7-7ddfd05dedc8",
   "metadata": {},
   "source": [
    "#### Greater than (>) :"
   ]
  },
  {
   "cell_type": "code",
   "execution_count": 52,
   "id": "02bfc277-2aee-4fd7-bf9a-6c51b9244bb2",
   "metadata": {},
   "outputs": [
    {
     "name": "stdout",
     "output_type": "stream",
     "text": [
      "True\n"
     ]
    }
   ],
   "source": [
    "result = (num1 > num2)  # result is True as num1 is greater than num2\n",
    "print(result)"
   ]
  },
  {
   "cell_type": "markdown",
   "id": "3bc7103d-6665-4c11-84fe-60c5f2f690ee",
   "metadata": {},
   "source": [
    "#### Less than (<) :"
   ]
  },
  {
   "cell_type": "code",
   "execution_count": 55,
   "id": "46398976-10ef-4b97-974e-1fabb0dd33c6",
   "metadata": {},
   "outputs": [
    {
     "name": "stdout",
     "output_type": "stream",
     "text": [
      "False\n"
     ]
    }
   ],
   "source": [
    "result = (num1 < num2)  # result is False as num1 is not less than num2\n",
    "print(result)"
   ]
  },
  {
   "cell_type": "markdown",
   "id": "03842b64-1caa-4cf7-af46-7832b804b77b",
   "metadata": {},
   "source": [
    "#### Greater than or equal to (>=) :"
   ]
  },
  {
   "cell_type": "code",
   "execution_count": 58,
   "id": "5337e60d-1556-48c6-86a8-c21d571f4896",
   "metadata": {},
   "outputs": [
    {
     "name": "stdout",
     "output_type": "stream",
     "text": [
      "True\n"
     ]
    }
   ],
   "source": [
    "result = (num1 >= num2)  # result is True as num1 is greater than num2\n",
    "print(result)"
   ]
  },
  {
   "cell_type": "markdown",
   "id": "887015bf-9178-4059-a846-eec78425671f",
   "metadata": {},
   "source": [
    "#### Less than or equal to (<=) :"
   ]
  },
  {
   "cell_type": "code",
   "execution_count": 59,
   "id": "751dc702-19f3-4907-b93a-ce74c34a9d54",
   "metadata": {},
   "outputs": [
    {
     "name": "stdout",
     "output_type": "stream",
     "text": [
      "False\n"
     ]
    }
   ],
   "source": [
    "result = (num1 <= num2)  # result is False as num1 is not less than equal to num2\n",
    "print(result)"
   ]
  },
  {
   "cell_type": "markdown",
   "id": "c9102294-5da6-4df3-a27b-82eb3c72f454",
   "metadata": {},
   "source": [
    "#### 3. Logical Operators : Used to perform logical operations."
   ]
  },
  {
   "cell_type": "markdown",
   "id": "bd735473-d2cf-45a0-bc1a-98bdebeecc2c",
   "metadata": {},
   "source": [
    "#### And (and) :"
   ]
  },
  {
   "cell_type": "code",
   "execution_count": 61,
   "id": "ecd6403b-39f0-40e6-ad94-e22a62362763",
   "metadata": {},
   "outputs": [
    {
     "name": "stdout",
     "output_type": "stream",
     "text": [
      "True\n"
     ]
    }
   ],
   "source": [
    "result = (num1 > 0 and num2 > 0)  # result is True as both conditions are true\n",
    "print(result)"
   ]
  },
  {
   "cell_type": "markdown",
   "id": "c12e738c-f524-4789-8e97-9e3a9b544c08",
   "metadata": {},
   "source": [
    "#### Or (or) :"
   ]
  },
  {
   "cell_type": "code",
   "execution_count": 62,
   "id": "94890401-8509-421c-8d92-3e14cb6175ab",
   "metadata": {},
   "outputs": [
    {
     "name": "stdout",
     "output_type": "stream",
     "text": [
      "True\n"
     ]
    }
   ],
   "source": [
    "result = (num1 > 0 or num2 < 0)  # result is True as one of the givn conditions is true\n",
    "print(result)"
   ]
  },
  {
   "cell_type": "markdown",
   "id": "91e38090-7325-48f3-88a4-8231178d58da",
   "metadata": {},
   "source": [
    "#### Not (not) :"
   ]
  },
  {
   "cell_type": "code",
   "execution_count": 63,
   "id": "853f5f90-a1e3-4be7-b7fc-f05c192234c3",
   "metadata": {},
   "outputs": [
    {
     "name": "stdout",
     "output_type": "stream",
     "text": [
      "False\n"
     ]
    }
   ],
   "source": [
    "result = not (num1 > 0)  # result is False as num1 is greater than 0. So, not of true is false\n",
    "print(result)"
   ]
  },
  {
   "cell_type": "markdown",
   "id": "831f0c57-660e-49a1-9ec3-d3577db84dcf",
   "metadata": {},
   "source": [
    "#### 4. Assignment Operators : Used to assign values to variables."
   ]
  },
  {
   "cell_type": "markdown",
   "id": "29d5e409-22da-47c1-b93f-af1514868f34",
   "metadata": {},
   "source": [
    "#### Assign (=) :"
   ]
  },
  {
   "cell_type": "code",
   "execution_count": 65,
   "id": "99c19daa-7bae-45d1-9555-149ccd5eeba4",
   "metadata": {},
   "outputs": [
    {
     "name": "stdout",
     "output_type": "stream",
     "text": [
      "10\n"
     ]
    }
   ],
   "source": [
    "num1 = 10 # here, we are assigning num1 variable wwith value 10\n",
    "print(num1)"
   ]
  },
  {
   "cell_type": "markdown",
   "id": "13583887-3c41-428e-a152-7f3aa63e93cc",
   "metadata": {},
   "source": [
    "#### Add and assign (+=) :"
   ]
  },
  {
   "cell_type": "code",
   "execution_count": 66,
   "id": "e2b70457-7c1f-49af-b55b-7ee88b3d8c15",
   "metadata": {},
   "outputs": [
    {
     "name": "stdout",
     "output_type": "stream",
     "text": [
      "15\n"
     ]
    }
   ],
   "source": [
    "num1 += 5  # Equivalent to num1 = num1 + 5, so a becomes 15\n",
    "print(num1)"
   ]
  },
  {
   "cell_type": "markdown",
   "id": "f0e4b3db-4c08-4d6e-bbba-8c6f9a12196c",
   "metadata": {},
   "source": [
    "#### Subtract and assign (-=) :"
   ]
  },
  {
   "cell_type": "code",
   "execution_count": 67,
   "id": "0be4c61d-7bb0-4c80-bb94-daac91e1ae73",
   "metadata": {},
   "outputs": [
    {
     "name": "stdout",
     "output_type": "stream",
     "text": [
      "12\n"
     ]
    }
   ],
   "source": [
    "num1 -= 3  # Equivalent to num1 = num1 - 3, so a becomes 12\n",
    "print(num1)"
   ]
  },
  {
   "cell_type": "markdown",
   "id": "911344cb-3849-405f-8f80-be6e5f8e055d",
   "metadata": {},
   "source": [
    "#### Multiply and assign (*=) :"
   ]
  },
  {
   "cell_type": "code",
   "execution_count": 69,
   "id": "a9d0b2d9-62d7-417b-8bb8-7307eb75b05d",
   "metadata": {},
   "outputs": [
    {
     "name": "stdout",
     "output_type": "stream",
     "text": [
      "48\n"
     ]
    }
   ],
   "source": [
    "num1 *= 4  # Equivalent to num1 = num1 * 4, so a becomes 48\n",
    "print(num1)"
   ]
  },
  {
   "cell_type": "markdown",
   "id": "8eab4bfd-25af-4c38-809b-5dadae4d15c2",
   "metadata": {},
   "source": [
    "#### Divide and assign (/=) :"
   ]
  },
  {
   "cell_type": "code",
   "execution_count": 76,
   "id": "848ba639-6816-48b1-afb9-7fdb0c2e8df6",
   "metadata": {},
   "outputs": [
    {
     "name": "stdout",
     "output_type": "stream",
     "text": [
      "8.0\n"
     ]
    }
   ],
   "source": [
    "num1 /= 6 # Equivalent to num1 = num1 / 6, so it becomes 8.0\n",
    "print(num1)"
   ]
  },
  {
   "cell_type": "markdown",
   "id": "d2058b81-8229-42d7-b088-59bb65618f3a",
   "metadata": {},
   "source": [
    "#### Modulus and assign (%=) :"
   ]
  },
  {
   "cell_type": "code",
   "execution_count": 78,
   "id": "a0d06209-01f1-41b1-9135-636b8aa21086",
   "metadata": {},
   "outputs": [
    {
     "name": "stdout",
     "output_type": "stream",
     "text": [
      "0.0\n"
     ]
    }
   ],
   "source": [
    "num1 %= 2  # Equivalent to num1 = num1 % 3, so a becomes 0\n",
    "print(num1)"
   ]
  },
  {
   "cell_type": "markdown",
   "id": "b92d7ee3-7f7e-4f5a-b764-6f69dd690d45",
   "metadata": {},
   "source": [
    "#### Exponent and assign (**=) :"
   ]
  },
  {
   "cell_type": "code",
   "execution_count": 80,
   "id": "c552bf15-a9d9-451f-abe2-4bc78f84ce80",
   "metadata": {},
   "outputs": [
    {
     "name": "stdout",
     "output_type": "stream",
     "text": [
      "16\n"
     ]
    }
   ],
   "source": [
    "num1 = 4\n",
    "num1 **= 2  # Equivalent to num1 = num1 ** 2, so a becomes 16\n",
    "print(num1)"
   ]
  },
  {
   "cell_type": "markdown",
   "id": "229f2023-faba-4442-ac7e-dcdab05eed70",
   "metadata": {},
   "source": [
    "#### Floor divide and assign (//=) :"
   ]
  },
  {
   "cell_type": "code",
   "execution_count": 81,
   "id": "1ae647b0-5e7f-4c3a-a47b-7d58a1b5d63a",
   "metadata": {},
   "outputs": [
    {
     "name": "stdout",
     "output_type": "stream",
     "text": [
      "5\n"
     ]
    }
   ],
   "source": [
    "num1 //= 3  # Equivalent to num1 = num1 // 3, so a becomes 5 (16 // 3 = 5)\n",
    "print(num1)"
   ]
  },
  {
   "cell_type": "markdown",
   "id": "63bcd863-b38c-4a87-86fe-c37ea6fd511e",
   "metadata": {},
   "source": [
    "#### 5. Bitwise Operators : Operate on binary representations of numbers."
   ]
  },
  {
   "cell_type": "markdown",
   "id": "3d4cfb5f-a5d3-4bdf-8819-51c666377e52",
   "metadata": {},
   "source": [
    "#### And (&) :"
   ]
  },
  {
   "cell_type": "code",
   "execution_count": 83,
   "id": "54d89327-5289-444a-9688-2fba50e2489b",
   "metadata": {},
   "outputs": [
    {
     "name": "stdout",
     "output_type": "stream",
     "text": [
      "0\n"
     ]
    }
   ],
   "source": [
    "result = 10 & 4  # result is 0 (binary 1010 & 0100 = 0000)\n",
    "print(result)"
   ]
  },
  {
   "cell_type": "markdown",
   "id": "9d45b8b4-a8b1-46cb-9daf-36d80f52b1d7",
   "metadata": {},
   "source": [
    "#### Or (|) :"
   ]
  },
  {
   "cell_type": "code",
   "execution_count": 84,
   "id": "384be25d-9bd0-4f6b-8155-1deda5e7e964",
   "metadata": {},
   "outputs": [
    {
     "name": "stdout",
     "output_type": "stream",
     "text": [
      "14\n"
     ]
    }
   ],
   "source": [
    "result = 10 | 4  # result is 14 (binary 1010 | 0100 = 1110)\n",
    "print(result)"
   ]
  },
  {
   "cell_type": "markdown",
   "id": "bcd8b6a2-b165-48c7-b05f-ec4937e8db4c",
   "metadata": {},
   "source": [
    "#### Xor (^) :"
   ]
  },
  {
   "cell_type": "code",
   "execution_count": 85,
   "id": "01beb777-a482-4457-8ff3-2472c998c6f4",
   "metadata": {},
   "outputs": [
    {
     "name": "stdout",
     "output_type": "stream",
     "text": [
      "14\n"
     ]
    }
   ],
   "source": [
    "result = 10 ^ 4  # result is 14 (binary 1010 ^ 0100 = 1110)\n",
    "print(result)"
   ]
  },
  {
   "cell_type": "markdown",
   "id": "3ee7dd98-9f71-441c-bb98-d585c3575175",
   "metadata": {},
   "source": [
    "#### Complement (~) :"
   ]
  },
  {
   "cell_type": "code",
   "execution_count": 86,
   "id": "b9c4043a-253a-4d46-8a33-df703e6d4e42",
   "metadata": {},
   "outputs": [
    {
     "name": "stdout",
     "output_type": "stream",
     "text": [
      "-11\n"
     ]
    }
   ],
   "source": [
    "result = ~10  # result is -11 (binary complement of 10)\n",
    "print(result)"
   ]
  },
  {
   "cell_type": "markdown",
   "id": "ae508cf6-363e-4ad8-b899-d2b38595f081",
   "metadata": {},
   "source": [
    "#### Left shift (<<) :"
   ]
  },
  {
   "cell_type": "code",
   "execution_count": 87,
   "id": "b3d4c2e6-0b56-46c6-a512-f32a8d7d24b9",
   "metadata": {},
   "outputs": [
    {
     "name": "stdout",
     "output_type": "stream",
     "text": [
      "40\n"
     ]
    }
   ],
   "source": [
    "result = 10 << 2  # result is 40 (binary shift left by 2 places i.e, 1010 when shited left by 2 places becomes 101000 which is 40)\n",
    "print(result)"
   ]
  },
  {
   "cell_type": "markdown",
   "id": "a23ba671-9ea7-41f6-9d3e-b85b084d3fdc",
   "metadata": {},
   "source": [
    "#### Right shift (>>) :"
   ]
  },
  {
   "cell_type": "code",
   "execution_count": 88,
   "id": "48e7db6a-0ba7-4ea4-8aec-485385523da2",
   "metadata": {},
   "outputs": [
    {
     "name": "stdout",
     "output_type": "stream",
     "text": [
      "2\n"
     ]
    }
   ],
   "source": [
    "result = 10 >> 2  # result is 2 (binary shift right by 2 places i.e, 1010 when shited right by 2 places becomes 0010 which is 2)\n",
    "print(result)"
   ]
  },
  {
   "cell_type": "markdown",
   "id": "8757d91b-16d8-4953-85e0-de0ab7af5984",
   "metadata": {},
   "source": [
    "#### 6. Membership Operators : Used to test membership in sequences like lists, tuples, and strings."
   ]
  },
  {
   "cell_type": "markdown",
   "id": "c51512b3-dcda-45c6-9060-0551929503f0",
   "metadata": {},
   "source": [
    "#### In (in) :"
   ]
  },
  {
   "cell_type": "code",
   "execution_count": 90,
   "id": "99eae65d-091e-4a7d-9bc1-9d63212b27fd",
   "metadata": {},
   "outputs": [
    {
     "name": "stdout",
     "output_type": "stream",
     "text": [
      "True\n"
     ]
    }
   ],
   "source": [
    "result = 45 in [25, 45, 99]  # result is True as list is having 10\n",
    "print(result)"
   ]
  },
  {
   "cell_type": "markdown",
   "id": "85283a0e-d2e5-40d3-b8ea-edc2ee383dcc",
   "metadata": {},
   "source": [
    "#### Not in (not in) :"
   ]
  },
  {
   "cell_type": "code",
   "execution_count": 91,
   "id": "950178be-ac05-45e2-bf9c-cac72d7a9f74",
   "metadata": {},
   "outputs": [
    {
     "name": "stdout",
     "output_type": "stream",
     "text": [
      "True\n"
     ]
    }
   ],
   "source": [
    "result = 67 not in [25, 45, 99]  # result is True as 67 is not present in the list\n",
    "print(result)"
   ]
  },
  {
   "cell_type": "markdown",
   "id": "7924cd28-fbbe-458c-8083-a324a86a43fb",
   "metadata": {},
   "source": [
    "#### 7. Identity Operators : Used to compare the memory locations of two objects."
   ]
  },
  {
   "cell_type": "markdown",
   "id": "73bed3c5-eac3-4f32-9fe1-61524fb9e242",
   "metadata": {},
   "source": [
    "#### Is (is) :"
   ]
  },
  {
   "cell_type": "code",
   "execution_count": 94,
   "id": "486c8dba-0013-4615-914a-66bf1c4ab022",
   "metadata": {},
   "outputs": [
    {
     "name": "stdout",
     "output_type": "stream",
     "text": [
      "True\n"
     ]
    }
   ],
   "source": [
    "var1 = [1, 2, 3,4,5]\n",
    "var2 = var1\n",
    "result = (var1 is var2)  # result is True as both var1 and var2 are refering same list present at a particular location \n",
    "print(result)"
   ]
  },
  {
   "cell_type": "markdown",
   "id": "1c0340b2-efab-45a6-889e-cfb751bc8aba",
   "metadata": {},
   "source": [
    "#### Is not (is not) :"
   ]
  },
  {
   "cell_type": "code",
   "execution_count": 95,
   "id": "96212ae8-2b84-4c86-99fd-fcbf210890ca",
   "metadata": {},
   "outputs": [
    {
     "name": "stdout",
     "output_type": "stream",
     "text": [
      "True\n"
     ]
    }
   ],
   "source": [
    "var3 = [1, 2, 3,4,5]\n",
    "result = (var1 is not var3)  # result is True because both the lists can be same but they are not present at the same location in the memory\n",
    "print(result)"
   ]
  },
  {
   "cell_type": "markdown",
   "id": "88e7a4b3-404e-4384-9417-226a6bd7fd67",
   "metadata": {},
   "source": [
    "___________________________________________"
   ]
  },
  {
   "cell_type": "markdown",
   "id": "28fb0b2b-a28c-4390-8e25-2ac9e7aaa6d8",
   "metadata": {},
   "source": [
    "## Question-5 : 5. Explain the concept of type casting in Python with examples."
   ]
  },
  {
   "cell_type": "markdown",
   "id": "b4cf2b68-5f6e-4376-a3f5-f566cf3aceb0",
   "metadata": {},
   "source": [
    "### Solution :"
   ]
  },
  {
   "cell_type": "markdown",
   "id": "590046e4-42de-4a12-a23b-5bdb0e92750b",
   "metadata": {},
   "source": [
    "#### Type casting can be defined as a process of converting a value from one data type to another.\n",
    "####  It is also known as type conversion."
   ]
  },
  {
   "cell_type": "markdown",
   "id": "704486ed-576e-4b1f-98b2-15f8a9223bea",
   "metadata": {},
   "source": [
    "#### Here are some common type casting functions in Python and examples of how they are used :"
   ]
  },
  {
   "cell_type": "markdown",
   "id": "70a127af-869d-499e-8820-d6b023d8495f",
   "metadata": {},
   "source": [
    "#### 1. Integer (int()) : Converts a value to an integer. \n",
    "#### This can be used with floating-point numbers, strings, and other numeric types."
   ]
  },
  {
   "cell_type": "code",
   "execution_count": 98,
   "id": "39423ff6-e9f2-4be6-842d-e8494f803b25",
   "metadata": {},
   "outputs": [
    {
     "name": "stdout",
     "output_type": "stream",
     "text": [
      "10\n",
      "<class 'int'>\n"
     ]
    }
   ],
   "source": [
    "# Convert float to int\n",
    "float_value = 10.56\n",
    "int_value = int(float_value)  # int_value is 10 (truncates the decimal part)\n",
    "print(int_value)\n",
    "print(type(int_value))"
   ]
  },
  {
   "cell_type": "code",
   "execution_count": 102,
   "id": "9b1432a5-1cb6-4ee0-a716-875f68a5f26d",
   "metadata": {},
   "outputs": [
    {
     "name": "stdout",
     "output_type": "stream",
     "text": [
      "999\n",
      "<class 'int'>\n"
     ]
    }
   ],
   "source": [
    "# Convert string to int\n",
    "string_value = \"999\"\n",
    "int_value = int(string_value)  # string_value \"999\" is converted to integer & stored in int_value\n",
    "print(int_value)\n",
    "print(type(int_value))"
   ]
  },
  {
   "cell_type": "markdown",
   "id": "1cc15125-089b-4499-a9ef-40ac7e2973ef",
   "metadata": {},
   "source": [
    "#### 2. Float (float()) : Converts a value to a floating-point number. \n",
    "#### This can be used with integers, strings, and other numeric types."
   ]
  },
  {
   "cell_type": "code",
   "execution_count": 103,
   "id": "270d0c22-dd11-4639-b4aa-917e7e966b5c",
   "metadata": {},
   "outputs": [
    {
     "name": "stdout",
     "output_type": "stream",
     "text": [
      "100.0\n",
      "<class 'float'>\n"
     ]
    }
   ],
   "source": [
    "# Convert int to float\n",
    "int_value = 100\n",
    "float_value = float(int_value)  # float_value is 100.0\n",
    "print(float_value)\n",
    "print(type(float_value))"
   ]
  },
  {
   "cell_type": "code",
   "execution_count": 105,
   "id": "df3e0dea-0af8-4c1c-b3f0-02133d97b39f",
   "metadata": {},
   "outputs": [
    {
     "name": "stdout",
     "output_type": "stream",
     "text": [
      "5.11\n",
      "<class 'float'>\n"
     ]
    }
   ],
   "source": [
    "# Convert string to float\n",
    "string_value = \"5.11\"\n",
    "float_value = float(string_value)  #  string_value \"5.11\" is converted to float & stored in float_value variable\n",
    "print(float_value)\n",
    "print(type(float_value))"
   ]
  },
  {
   "cell_type": "markdown",
   "id": "bc87b44e-aa73-4107-9256-8eae9c046d29",
   "metadata": {},
   "source": [
    "#### 3. String (str()) : Converts a value to a string.\n",
    "#### This can be used with integers, floats, and other data types.\n"
   ]
  },
  {
   "cell_type": "code",
   "execution_count": 107,
   "id": "77a6b10f-57cd-4e1b-9dfb-5ddaac425a18",
   "metadata": {},
   "outputs": [
    {
     "name": "stdout",
     "output_type": "stream",
     "text": [
      "26\n",
      "<class 'str'>\n"
     ]
    }
   ],
   "source": [
    "# Convert int to string\n",
    "int_value = 26\n",
    "string_value = str(int_value)  # string_value is \"26\"\n",
    "print(string_value)\n",
    "print(type(string_value))"
   ]
  },
  {
   "cell_type": "code",
   "execution_count": 108,
   "id": "da155bf4-3f1d-41e4-9a81-1d2609f36549",
   "metadata": {},
   "outputs": [
    {
     "name": "stdout",
     "output_type": "stream",
     "text": [
      "9.28\n",
      "<class 'str'>\n"
     ]
    }
   ],
   "source": [
    "# Convert float to string\n",
    "float_value = 9.28\n",
    "string_value = str(float_value)  # float_value storing 9.28 is converted to string and stord in string_value\n",
    "print(string_value)\n",
    "print(type(string_value))"
   ]
  },
  {
   "cell_type": "markdown",
   "id": "8d1d8b5d-caac-43d3-9b67-0329b04800c4",
   "metadata": {},
   "source": [
    "#### 4. List (list()) : Used To converts an iterable object (like a tuple or a string) to a list object."
   ]
  },
  {
   "cell_type": "code",
   "execution_count": 109,
   "id": "bd211209-f792-4f0a-bd48-b688a69ee0e4",
   "metadata": {},
   "outputs": [
    {
     "name": "stdout",
     "output_type": "stream",
     "text": [
      "[1, 2, 3]\n",
      "<class 'list'>\n"
     ]
    }
   ],
   "source": [
    "# Convert tuple to list\n",
    "tuple_value = (1, 2, 3)\n",
    "list_value = list(tuple_value)  # list_value is [1, 2, 3]\n",
    "print(list_value)\n",
    "print(type(list_value))"
   ]
  },
  {
   "cell_type": "code",
   "execution_count": 110,
   "id": "63617004-4a59-47b1-902d-c3b6733e2102",
   "metadata": {},
   "outputs": [
    {
     "name": "stdout",
     "output_type": "stream",
     "text": [
      "['R', 'o', 'n', 'a', 'l', 'd', 'o']\n",
      "<class 'list'>\n"
     ]
    }
   ],
   "source": [
    "# Convert string to list\n",
    "string_value = \"Ronaldo\"\n",
    "list_from_string = list(string_value)  # list_from_string is ['R', 'o', 'n', 'a', 'l', 'd', 'o']\n",
    "print(list_from_string)\n",
    "print(type(list_from_string))"
   ]
  },
  {
   "cell_type": "markdown",
   "id": "c99635f4-a92f-417b-a228-d29435c18dd1",
   "metadata": {},
   "source": [
    "#### 5. Tuple (tuple()) : Converts an iterable object to a tuple object."
   ]
  },
  {
   "cell_type": "code",
   "execution_count": 111,
   "id": "b467a3dd-3b67-4fbf-8dd2-19ba82765af3",
   "metadata": {},
   "outputs": [
    {
     "name": "stdout",
     "output_type": "stream",
     "text": [
      "(1, 2, 3, 4, 5)\n",
      "<class 'tuple'>\n"
     ]
    }
   ],
   "source": [
    "# Convert list to tuple\n",
    "list_value = [1, 2, 3, 4, 5]\n",
    "tuple_from_list = tuple(list_value)  # tuple_from_list is (1, 2, 3,4,5)\n",
    "print(tuple_from_list)\n",
    "print(type(tuple_from_list))"
   ]
  },
  {
   "cell_type": "code",
   "execution_count": 113,
   "id": "936f0837-79c2-441a-8de8-6a06fbb809ad",
   "metadata": {},
   "outputs": [
    {
     "name": "stdout",
     "output_type": "stream",
     "text": [
      "('R', 'o', 'n', 'a', 'l', 'd', 'o')\n",
      "<class 'tuple'>\n"
     ]
    }
   ],
   "source": [
    "# Convert string to tuple\n",
    "string_value = \"Ronaldo\"\n",
    "tuple_from_string = tuple(string_value)  # tuple_from_string is ('R', 'o', 'n', 'a', 'l', 'd', 'o')\n",
    "print(tuple_from_string)\n",
    "print(type(tuple_from_string))"
   ]
  },
  {
   "cell_type": "markdown",
   "id": "16f0e48a-1e60-4f9b-b19f-9ef90a60a8a5",
   "metadata": {},
   "source": [
    "#### 6. Set (set()) : Converts an iterable object to a set object."
   ]
  },
  {
   "cell_type": "code",
   "execution_count": 114,
   "id": "272fef66-4685-4b02-97df-b78b0a724a2c",
   "metadata": {},
   "outputs": [
    {
     "name": "stdout",
     "output_type": "stream",
     "text": [
      "{1, 2, 3}\n",
      "<class 'set'>\n"
     ]
    }
   ],
   "source": [
    "# Convert list to set\n",
    "list_value = [1, 2, 3, 3, 2]\n",
    "set_from_list = set(list_value)  # set_from_list is {1, 2, 3} (duplicates are removed)\n",
    "print(set_from_list)\n",
    "print(type(set_from_list))"
   ]
  },
  {
   "cell_type": "code",
   "execution_count": 120,
   "id": "1bb36069-77e8-4351-8ce3-e649e4813cad",
   "metadata": {},
   "outputs": [
    {
     "name": "stdout",
     "output_type": "stream",
     "text": [
      "{'l', 'd', 'o', 'n', 'a', 'R'}\n",
      "<class 'set'>\n"
     ]
    }
   ],
   "source": [
    "# Convert string to set\n",
    "string_value = \"Ronaldo\"\n",
    "set_from_string = set(string_value)  # set_from_string is {'R', 'o', 'n', 'a', 'l', 'd'} (Set in python is unordered)\n",
    "print(set_from_string)\n",
    "print(type(set_from_string))"
   ]
  },
  {
   "cell_type": "markdown",
   "id": "07b044f4-5a35-43c5-8e2f-4959c58174a1",
   "metadata": {},
   "source": [
    "#### Conclusion:\n",
    "#### Type casting helps in managing and manipulating different types of data in a Python program, ensuring compatibility and correctness in operations and function calls.\n"
   ]
  },
  {
   "cell_type": "markdown",
   "id": "202949b3-f12e-4b97-8c1b-9cdba50858c6",
   "metadata": {},
   "source": [
    "_____________________________"
   ]
  },
  {
   "cell_type": "markdown",
   "id": "bdb83479-77ec-417e-a59c-3bb31148f58a",
   "metadata": {},
   "source": [
    "## Question-6 : How do conditional statements work in Python? Illustrate with examples. "
   ]
  },
  {
   "cell_type": "markdown",
   "id": "9e96468e-ec43-4bf5-ad5f-d628acab8e4f",
   "metadata": {},
   "source": [
    "### Solution :"
   ]
  },
  {
   "cell_type": "markdown",
   "id": "2905a865-c2a1-4bef-bb61-81ddde1b22f9",
   "metadata": {},
   "source": [
    "#### Conditional statements can be defined as statements in Python that allow you to execute certain blocks of code based on whether a condition is true or false. They help in making decisions in our programs. The primary conditional statements in Python are 'if', 'elif', and 'else'. Also, we have Nested Conditional Statements."
   ]
  },
  {
   "cell_type": "markdown",
   "id": "2a25b6ab-3377-4083-a5fe-46ea266fb0f6",
   "metadata": {},
   "source": [
    "#### 1. 'if' Statement \n",
    "#### The 'if' statement evaluates a condition (an expression that returns a boolean value: True or False). If the condition is true, the block of code within the 'if' statement is executed."
   ]
  },
  {
   "cell_type": "code",
   "execution_count": 133,
   "id": "52dd0b6d-262c-43ba-888e-dce59936cb3c",
   "metadata": {},
   "outputs": [
    {
     "name": "stdout",
     "output_type": "stream",
     "text": [
      "You are an adult.\n"
     ]
    }
   ],
   "source": [
    "# Example:\n",
    "\n",
    "age = 26\n",
    "if age >= 21:\n",
    "    print(\"You are an adult.\")\n",
    "\n",
    "# In this example, the condition `age >= 18` is true, so the message \"You are an adult.\" is printed."
   ]
  },
  {
   "cell_type": "markdown",
   "id": "814ca729-f75c-461d-a964-3dbe6e9f48b1",
   "metadata": {},
   "source": [
    "#### 2. 'elif' Statement\n",
    "#### The 'elif' statement evaluates a condition, provided it is not executd by 'if' block and return a boolean value True/Falue. If condition evaluated in 'elif' statement is True, then block of code within the 'elif' block is executed."
   ]
  },
  {
   "cell_type": "code",
   "execution_count": 134,
   "id": "8bf13ab5-2a90-4104-a585-64cf8d58779e",
   "metadata": {},
   "outputs": [
    {
     "name": "stdout",
     "output_type": "stream",
     "text": [
      "You are not adult\n"
     ]
    }
   ],
   "source": [
    "# Example:\n",
    "\n",
    "age = 12\n",
    "if age >= 21:\n",
    "    print(\"You are an adult.\")\n",
    "    \n",
    "elif age < 21 and age >= 5:\n",
    "    print(\"You are not adult\")\n",
    "\n",
    "# In this example, the condition 'age>=18' is flase. So, 'if' block will not be executed. \n",
    "# So, it goes to 'elif' statement and check the condition i.e., age < 21 and age >= 5 \n",
    "# return True (True and True is True).\"\"\"\n",
    "# So, the 'elif' block will be executed and the message \"You are not an adult\" is printed\"\"\""
   ]
  },
  {
   "cell_type": "markdown",
   "id": "724a0749-966e-43d4-9195-335ea262b2e7",
   "metadata": {},
   "source": [
    "#### 3. 'else' Statement"
   ]
  },
  {
   "cell_type": "markdown",
   "id": "3b350420-c29a-483a-a8df-88cb251c1770",
   "metadata": {},
   "source": [
    "#### The 'else' statement is used to execute a block of code when none of the preceding conditions ('if' or 'elif') are true."
   ]
  },
  {
   "cell_type": "code",
   "execution_count": 135,
   "id": "7e63612b-9f30-4ee6-88ab-8971bfaba334",
   "metadata": {},
   "outputs": [
    {
     "name": "stdout",
     "output_type": "stream",
     "text": [
      "You are not qualified\n"
     ]
    }
   ],
   "source": [
    "# Example\n",
    "\n",
    "score = 35\n",
    "if score >= 90:\n",
    "    print(\"You have got distinction\")\n",
    "\n",
    "elif score < 90 and score > 50:\n",
    "    print(\"You Passed the examination\")\n",
    "    \n",
    "else:\n",
    "    print(\"You are not qualified\")\n",
    "    \n",
    "# In this example, 'if' statement will return  False.\n",
    "# So, code within 'if' block will not be executed.\n",
    "# Also, when it passes to 'elif' statement, it return False.\n",
    "# So, code within 'elif' block will not be executed.\n",
    "# Now, as preceding conditions are False. Therefore, code with 'else' block will be executed.\n",
    "# And, the message \"You are not qualified\" will be printed."
   ]
  },
  {
   "cell_type": "markdown",
   "id": "022ab329-da78-48e3-988d-a13633a3c546",
   "metadata": {},
   "source": [
    "#### 4. Nested Conditional Statements"
   ]
  },
  {
   "cell_type": "markdown",
   "id": "86710976-6989-4b1c-b696-22d5be8e465b",
   "metadata": {},
   "source": [
    "#### In nested conditional statements, we execute the statements under statement an return return a boolean value. If return boolean value is True then, the code with the nested conditional statements will be executed."
   ]
  },
  {
   "cell_type": "code",
   "execution_count": 138,
   "id": "7c4760c7-9cbc-4b68-b603-86d5405a0187",
   "metadata": {},
   "outputs": [
    {
     "name": "stdout",
     "output_type": "stream",
     "text": [
      "You can go and play cricket\n"
     ]
    }
   ],
   "source": [
    "# Example:\n",
    "\n",
    "weather = \"sunny\"\n",
    "study_status = \"completed\"\n",
    "\n",
    "if weather == 'sunny':\n",
    "    if study_status == 'completed':\n",
    "        print(\"You can go and play cricket\")\n",
    "    else:\n",
    "        print(\"Please complete your study\")\n",
    "else:\n",
    "    print(\"stay at home\")\n",
    "    \n",
    "# In this example, 'if' statement checks the condition and return True value.\n",
    "# But, again 'if' statement is present within 'if' block.\n",
    "# So, again it will check the statement and return True value.\n",
    "# THerfore, the 'if' block with the 'if' block will be executed and a message \"You can go and play cricket\" will be printed."
   ]
  },
  {
   "cell_type": "markdown",
   "id": "eb5ef79a-1062-4164-981a-db5b28eb29a4",
   "metadata": {},
   "source": [
    "#### Conclusion :"
   ]
  },
  {
   "cell_type": "markdown",
   "id": "94412b72-62a6-4004-bc2a-782887355f41",
   "metadata": {},
   "source": [
    "#### Conditional statements in Python helps to control the flow of our program by executing different blocks of code based on certain conditions. These include 'if', 'elif' and 'else', and can be nested to handle complex logic."
   ]
  },
  {
   "cell_type": "markdown",
   "id": "943ed17a-d527-4ece-9b0f-a4a317b03b4e",
   "metadata": {},
   "source": [
    "____________________________"
   ]
  },
  {
   "cell_type": "markdown",
   "id": "7aea47fd-c94c-476e-96ee-dc14a5944e84",
   "metadata": {},
   "source": [
    "## Question-7 : Describe the different types of loops in Python and their use cases with examples."
   ]
  },
  {
   "cell_type": "markdown",
   "id": "5446877b-1863-45c9-b3d7-18aa0f40bda5",
   "metadata": {},
   "source": [
    "### Solution :"
   ]
  },
  {
   "cell_type": "markdown",
   "id": "903f7f3c-9949-44b4-9110-a7a473039a39",
   "metadata": {},
   "source": [
    "#### In Python, we have two main types of loops: 'for' loop and 'while' loop. Each serves different purposes depending on the use case."
   ]
  },
  {
   "cell_type": "markdown",
   "id": "4af98136-cb4e-4250-b74b-0883b67f12b1",
   "metadata": {},
   "source": [
    "#### 1. 'for' loop"
   ]
  },
  {
   "cell_type": "markdown",
   "id": "2d045964-96a6-40f4-bf70-a28aa88d4794",
   "metadata": {},
   "source": [
    "#### A 'for' loop in Python is used to iterate over a sequence (like a list, tuple, dictionary, set, or string) or any other iterable object.\n",
    "- It's commonly used when you know the number of iterations in advance (e.g., when you are iterating over a collection or a range of numbers)."
   ]
  },
  {
   "cell_type": "raw",
   "id": "c844e9df-eae0-412c-89b0-7fc13f45b16c",
   "metadata": {},
   "source": [
    "Syntax :\n",
    "\n",
    "for variable in iterable:\n",
    "    # code block"
   ]
  },
  {
   "cell_type": "markdown",
   "id": "b50db022-2d0e-47ee-887d-65d1e82b3457",
   "metadata": {},
   "source": [
    "#### Example 1: Iterating over a list"
   ]
  },
  {
   "cell_type": "code",
   "execution_count": 142,
   "id": "9dd5854e-2a62-4a00-b289-aeffe81f907b",
   "metadata": {},
   "outputs": [
    {
     "name": "stdout",
     "output_type": "stream",
     "text": [
      "apple\n",
      "banana\n",
      "cherry\n"
     ]
    }
   ],
   "source": [
    "fruits = [\"apple\", \"banana\", \"cherry\"]\n",
    "for fruit in fruits:\n",
    "    print(fruit)"
   ]
  },
  {
   "cell_type": "markdown",
   "id": "d18334bd-e553-4e94-a6ca-97e31085fdc4",
   "metadata": {},
   "source": [
    "#### Example 2: Using 'range()'"
   ]
  },
  {
   "cell_type": "code",
   "execution_count": 143,
   "id": "04367d50-f1bc-41ad-9559-ce5c3e94cad8",
   "metadata": {},
   "outputs": [
    {
     "name": "stdout",
     "output_type": "stream",
     "text": [
      "0\n",
      "1\n",
      "2\n",
      "3\n",
      "4\n"
     ]
    }
   ],
   "source": [
    "for i in range(5):  # 'i' will take values from 0 to 4 (by default, starting value of 'i' is 0)\n",
    "    print(i)"
   ]
  },
  {
   "cell_type": "markdown",
   "id": "460c6bac-a051-440d-a669-e458c77c4f73",
   "metadata": {},
   "source": [
    "#### Use Cases :"
   ]
  },
  {
   "cell_type": "raw",
   "id": "de7552c4-fd5c-4825-8437-22e9f85c76dd",
   "metadata": {},
   "source": [
    "- When you want to iterate over the elements of a collection or use a known range of values.\n",
    "- Ideal for traversing through lists, dictionaries, and tuples, or generating sequences."
   ]
  },
  {
   "cell_type": "markdown",
   "id": "de90faa5-22ef-49c3-b8a6-962303ae0701",
   "metadata": {},
   "source": [
    "#### 2. 'While' loop"
   ]
  },
  {
   "cell_type": "markdown",
   "id": "32c7edc7-d728-43be-80c4-5373e9d2f3d4",
   "metadata": {},
   "source": [
    "####  A 'while' loop continues to execute as long as a given condition is true.\n",
    "   - It's generally used when the number of iterations is not known in advance, and you need the loop to run until a specific condition changes."
   ]
  },
  {
   "cell_type": "raw",
   "id": "821ab69e-282d-4bce-8c78-b90383795919",
   "metadata": {},
   "source": [
    "Syntax :\n",
    "    \n",
    "while condition:\n",
    "    # code block"
   ]
  },
  {
   "cell_type": "markdown",
   "id": "3b1deb6b-2121-4e17-a2b8-85181b464aca",
   "metadata": {},
   "source": [
    "#### Example 1: Basic 'while' loop"
   ]
  },
  {
   "cell_type": "code",
   "execution_count": 144,
   "id": "cf221798-b069-42d5-9d69-18b5fa4e5e4a",
   "metadata": {},
   "outputs": [
    {
     "name": "stdout",
     "output_type": "stream",
     "text": [
      "0\n",
      "1\n",
      "2\n",
      "3\n",
      "4\n"
     ]
    }
   ],
   "source": [
    "count = 0\n",
    "while count < 5:\n",
    "    print(count)\n",
    "    count += 1\n",
    "    \n",
    "# In this example, code eithin while block will be executed until the condition is false.\n",
    "# So, 0,1,2,3,4 will be printed one by one."
   ]
  },
  {
   "cell_type": "markdown",
   "id": "8b329478-39cc-4a7f-99ff-1951f5410c8c",
   "metadata": {},
   "source": [
    "#### Example 2: 'while' loop with user input"
   ]
  },
  {
   "cell_type": "code",
   "execution_count": 145,
   "id": "bbd9f5d8-4cbf-4a74-bb0e-fdb72e805fe1",
   "metadata": {},
   "outputs": [
    {
     "name": "stdin",
     "output_type": "stream",
     "text": [
      "Enter your choice (type : exit to stop) start\n"
     ]
    },
    {
     "name": "stdout",
     "output_type": "stream",
     "text": [
      "Your entered choice is  start\n"
     ]
    },
    {
     "name": "stdin",
     "output_type": "stream",
     "text": [
      "Enter your choice (type : exit to stop) exit\n"
     ]
    },
    {
     "name": "stdout",
     "output_type": "stream",
     "text": [
      "You have exited the loop\n"
     ]
    }
   ],
   "source": [
    "user_input = \"\"\n",
    "while user_input != \"exit\":\n",
    "    user_input = input(\"Enter your choice (type : exit to stop)\")\n",
    "    if user_input != \"exit\":\n",
    "        print(\"Your entered choice is \", user_input)\n",
    "        \n",
    "print(\"You have exited the loop\")\n",
    "\n",
    "# In this example, we are taking user input and storing them in user_input variable.\n",
    "# In while loop, we are checking if the user_input is not 'exit'. \n",
    "# Till this condition satisfy, we will keeping taking user_input.\n",
    "# Once, user entered 'exit'. \n",
    "# While condition doesn't satisfy and a message \"You have exited the loop\" will be printed."
   ]
  },
  {
   "cell_type": "markdown",
   "id": "8534234e-0b03-44cb-962e-e1dcd853d5fe",
   "metadata": {},
   "source": [
    "#### Use Cases :"
   ]
  },
  {
   "cell_type": "raw",
   "id": "0df904e1-273c-4e00-98df-bed1e4c63813",
   "metadata": {},
   "source": [
    "- When you want to repeat a task until a condition is met, and you are not sure how many times the loop should run in advance.\n",
    "- Suitable for cases like user input validation, waiting for some event, or performing repeated actions.\n"
   ]
  },
  {
   "cell_type": "markdown",
   "id": "260f4fb3-d9c3-40fc-b30c-a4f4d7f725d6",
   "metadata": {},
   "source": [
    "#### 3. Nested Loops"
   ]
  },
  {
   "cell_type": "markdown",
   "id": "dc8c4d38-3bfd-4b7a-b422-dd9b493529ab",
   "metadata": {},
   "source": [
    "#### Nested loops can be defined as a loop within another loop."
   ]
  },
  {
   "cell_type": "markdown",
   "id": "8152ed88-c377-411d-889b-3d77ec227e9e",
   "metadata": {},
   "source": [
    "#### Example : Nested foor loop"
   ]
  },
  {
   "cell_type": "code",
   "execution_count": 149,
   "id": "70c2d2aa-1603-451e-af1c-123883682981",
   "metadata": {},
   "outputs": [
    {
     "name": "stdout",
     "output_type": "stream",
     "text": [
      "i=0, j=0\n",
      "i=0, j=1\n",
      "i=1, j=0\n",
      "i=1, j=1\n",
      "i=2, j=0\n",
      "i=2, j=1\n"
     ]
    }
   ],
   "source": [
    "for i in range(3):\n",
    "    for j in range(2):\n",
    "        print(f\"i={i}, j={j}\")"
   ]
  },
  {
   "cell_type": "markdown",
   "id": "c28b9aa8-98b2-4179-89d2-cff5c709bdc9",
   "metadata": {},
   "source": [
    "#### Use Cases :"
   ]
  },
  {
   "cell_type": "raw",
   "id": "db3cfa5f-80f3-48f3-a0d9-474cab494246",
   "metadata": {},
   "source": [
    "- When working with multi-dimensional data structures like matrices or tables, where you need to iterate through each element in rows and columns.\n",
    "- When we need to draw any patterns"
   ]
  },
  {
   "cell_type": "markdown",
   "id": "f848c0a4-5616-49d4-94a2-8518b6516b2c",
   "metadata": {},
   "source": [
    "#### 4. Control Flow Statements : 'Break', 'Continue', 'Pass' Statements"
   ]
  },
  {
   "cell_type": "markdown",
   "id": "ee7fe1ad-3c7f-437f-b7ce-db26836ca29b",
   "metadata": {},
   "source": [
    "#### 4.1 Break Statement"
   ]
  },
  {
   "cell_type": "markdown",
   "id": "881203e0-2173-4ab3-8859-e21a46e4430e",
   "metadata": {},
   "source": [
    "#### Used to exit the loop."
   ]
  },
  {
   "cell_type": "code",
   "execution_count": 151,
   "id": "343f1cc4-7b8a-4b42-b2c2-5db18f2e743c",
   "metadata": {},
   "outputs": [
    {
     "name": "stdout",
     "output_type": "stream",
     "text": [
      "0\n",
      "1\n",
      "2\n"
     ]
    }
   ],
   "source": [
    "# Example \n",
    "\n",
    "for i in range(5):\n",
    "    if i == 3:\n",
    "        break\n",
    "    print(i)\n",
    "    \n",
    "# In this example, the foor loop will continue to execute but when 'i' value is 3 then the it will exit the loop.\n",
    "# So, in output we will be getting 0,1,2"
   ]
  },
  {
   "cell_type": "markdown",
   "id": "14b15525-b98e-452e-ad70-3528188d3b76",
   "metadata": {},
   "source": [
    "#### 4.2 Continue Statement"
   ]
  },
  {
   "cell_type": "markdown",
   "id": "b6104520-7c79-453c-87cf-1edd9fcbf2c2",
   "metadata": {},
   "source": [
    "#### Skips the current iteration and moves to the next one."
   ]
  },
  {
   "cell_type": "code",
   "execution_count": 152,
   "id": "b828aacf-d34e-4b33-ab78-ca6854ccbfe2",
   "metadata": {},
   "outputs": [
    {
     "name": "stdout",
     "output_type": "stream",
     "text": [
      "0\n",
      "1\n",
      "2\n",
      "4\n"
     ]
    }
   ],
   "source": [
    "# Example for i in range(5):\n",
    "for i in range(5):\n",
    "    if i == 3:\n",
    "        continue\n",
    "    print(i)\n",
    "    \n",
    "# In this esxample, during the execution of for loop, when 'i' is equal to 3 then, it skips the iteration and passes to the next one.\n",
    "# o, the output will be 0,1,2,4."
   ]
  },
  {
   "cell_type": "markdown",
   "id": "e52e4e46-e0bc-4c0e-aeb2-784b51d1cbb3",
   "metadata": {},
   "source": [
    "#### 4.3 Pass Statement "
   ]
  },
  {
   "cell_type": "markdown",
   "id": "6387e6a0-8549-44d3-a339-fef0800a1e5e",
   "metadata": {},
   "source": [
    "#### Does nothing, just serves as a placeholder."
   ]
  },
  {
   "cell_type": "code",
   "execution_count": 154,
   "id": "777da6c3-f9c5-43b8-980e-250bbf2926d9",
   "metadata": {},
   "outputs": [],
   "source": [
    "# Example: \n",
    "\n",
    "for i in range(5):\n",
    "        pass  # Placeholder, does nothing\n",
    "    \n",
    "# In this example, pass statement will execute the for loop without giving the error message.\n",
    "# This is one the best advantage of using pass statement.\n",
    "# While developing the blue print, pass statements is quite usefull."
   ]
  }
 ],
 "metadata": {
  "kernelspec": {
   "display_name": "Python 3 (ipykernel)",
   "language": "python",
   "name": "python3"
  },
  "language_info": {
   "codemirror_mode": {
    "name": "ipython",
    "version": 3
   },
   "file_extension": ".py",
   "mimetype": "text/x-python",
   "name": "python",
   "nbconvert_exporter": "python",
   "pygments_lexer": "ipython3",
   "version": "3.10.8"
  }
 },
 "nbformat": 4,
 "nbformat_minor": 5
}
